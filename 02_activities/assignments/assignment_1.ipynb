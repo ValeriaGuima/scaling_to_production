{
 "cells": [
  {
   "cell_type": "markdown",
   "metadata": {},
   "source": [
    "# Working with parquet files\n",
    "\n",
    "## Objective\n",
    "\n",
    "+ In this assignment, we will use the data downloaded with the module `data_manager` to create features.\n",
    "\n",
    "(11 pts total)\n",
    "\n",
    "## Prerequisites\n",
    "\n",
    "+ This notebook assumes that price data is available to you in the environment variable `PRICE_DATA`. If you have not done so, then execute the notebook `production_2_data_engineering.ipynb` to create this data set.\n"
   ]
  },
  {
   "cell_type": "markdown",
   "metadata": {},
   "source": [
    "+ Load the environment variables using dotenv. (1 pt)"
   ]
  },
  {
   "cell_type": "code",
   "execution_count": 48,
   "metadata": {},
   "outputs": [],
   "source": [
    "# Write your code below.\n",
    "import os\n",
    "from glob import glob\n"
   ]
  },
  {
   "cell_type": "code",
   "execution_count": 49,
   "metadata": {},
   "outputs": [],
   "source": [
    "import dask\n",
    "dask.config.set({'dataframe.query-planning': True})\n",
    "import dask.dataframe as dd"
   ]
  },
  {
   "cell_type": "markdown",
   "metadata": {},
   "source": [
    "+ Load the environment variable `PRICE_DATA`.\n",
    "+ Use [glob](https://docs.python.org/3/library/glob.html) to find the path of all parquet files in the directory `PRICE_DATA`.\n",
    "\n",
    "(1pt)"
   ]
  },
  {
   "cell_type": "code",
   "execution_count": 51,
   "metadata": {},
   "outputs": [],
   "source": [
    "import pandas as pd\n",
    "import os\n",
    "\n",
    "import sys\n",
    "sys.path.append (os.getenv('PRICE_DATA'))\n",
    "\n",
    "from glob import glob\n",
    "parquet_files = os.getenv('PRICE_DATA')\n",
    "df = glob(os.path.join(parquet_files, \"*/*.parquet\"))"
   ]
  },
  {
   "cell_type": "markdown",
   "metadata": {},
   "source": [
    "For each ticker and using Dask, do the following:\n",
    "\n",
    "+ Add lags for variables Close and Adj_Close.\n",
    "+ Add returns based on Adjusted Close:\n",
    "    \n",
    "    - `returns`: (Adj Close / Adj Close_lag) - 1\n",
    "\n",
    "+ Add the following range: \n",
    "\n",
    "    - `hi_lo_range`: this is the day's High minus Low.\n",
    "\n",
    "+ Assign the result to `dd_feat`.\n",
    "\n",
    "(4 pt)"
   ]
  },
  {
   "cell_type": "code",
   "execution_count": 55,
   "metadata": {},
   "outputs": [],
   "source": [
    "# Write your code below.\n",
    "import numpy as np\n",
    "dd_feat = (dd_px.groupby('ticker', group_keys=False).apply(\n",
    "    lambda x: x.assign(Close_lag = x['Close'].shift(1))\n",
    ").assign(\n",
    "    returns = lambda x: x['Close']/x['Close_lag'] - 1\n",
    ").assign( \n",
    "    hi_lo_range = lambda x: x['High'] - x['Low']\n",
    "))\n"
   ]
  },
  {
   "cell_type": "markdown",
   "metadata": {},
   "source": [
    "+ Convert the Dask data frame to a pandas data frame. \n",
    "+ Add a rolling average return calculation with a window of 10 days.\n",
    "+ *Tip*: Consider using `.rolling(10).mean()`.\n",
    "\n",
    "(3 pt)"
   ]
  },
  {
   "cell_type": "code",
   "execution_count": 56,
   "metadata": {},
   "outputs": [
    {
     "name": "stdout",
     "output_type": "stream",
     "text": [
      "             Date       Open       High        Low      Close  Adj Close  \\\n",
      "ticker                                                                     \n",
      "IP     2003-01-02  32.695671  33.386753  32.266079  33.181293  15.344514   \n",
      "IP     2003-01-03  33.013195  33.181293  32.592941  32.891788  15.210627   \n",
      "IP     2003-01-06  32.835754  34.021801  32.835754  33.704277  15.586359   \n",
      "IP     2003-01-07  33.648243  34.031139  33.396091  33.881718  15.668420   \n",
      "IP     2003-01-08  33.573532  33.610886  32.966499  33.087906  15.301325   \n",
      "...           ...        ...        ...        ...        ...        ...   \n",
      "BXP    2000-12-22  44.437500  44.500000  44.187500  44.375000  14.991729   \n",
      "BXP    2000-12-26  44.312500  44.312500  44.000000  44.312500  14.970618   \n",
      "BXP    2000-12-27  43.687500  44.187500  43.687500  44.187500  15.109095   \n",
      "BXP    2000-12-28  44.062500  44.875000  43.750000  44.750000  15.301436   \n",
      "BXP    2000-12-29  44.687500  44.812500  43.187500  43.500000  14.874022   \n",
      "\n",
      "         Volume       sector                                       subsector  \\\n",
      "ticker                                                                         \n",
      "IP      3215136    Materials  Paper & Plastic Packaging Products & Materials   \n",
      "IP      2418687    Materials  Paper & Plastic Packaging Products & Materials   \n",
      "IP      2977422    Materials  Paper & Plastic Packaging Products & Materials   \n",
      "IP      2864990    Materials  Paper & Plastic Packaging Products & Materials   \n",
      "IP      2607466    Materials  Paper & Plastic Packaging Products & Materials   \n",
      "...         ...          ...                                             ...   \n",
      "BXP       72800  Real Estate                                    Office REITs   \n",
      "BXP       44600  Real Estate                                    Office REITs   \n",
      "BXP      220700  Real Estate                                    Office REITs   \n",
      "BXP      173100  Real Estate                                    Office REITs   \n",
      "BXP      282800  Real Estate                                    Office REITs   \n",
      "\n",
      "        year  Close_lag   returns  hi_lo_range  rolling_avg_return  \n",
      "ticker                                                              \n",
      "IP      2003        NaN       NaN     1.120674                 NaN  \n",
      "IP      2003  33.181293 -0.008725     0.588352                 NaN  \n",
      "IP      2003  32.891788  0.024702     1.186047                 NaN  \n",
      "IP      2003  33.704277  0.005265     0.635048                 NaN  \n",
      "IP      2003  33.881718 -0.023429     0.644386                 NaN  \n",
      "...      ...        ...       ...          ...                 ...  \n",
      "BXP     2000  44.625000 -0.005602     0.312500            0.004667  \n",
      "BXP     2000  44.375000 -0.001408     0.312500            0.002461  \n",
      "BXP     2000  44.312500 -0.002821     0.500000            0.003046  \n",
      "BXP     2000  44.187500  0.012730     1.125000            0.002861  \n",
      "BXP     2000  44.750000 -0.027933     1.625000            0.000355  \n",
      "\n",
      "[2742203 rows x 14 columns]\n"
     ]
    }
   ],
   "source": [
    "# Write your code below.\n",
    "pandas_df = dd_feat.compute()\n",
    "\n",
    "# Step 2: Add a rolling average return calculation with a window of 10 days grouped by 'ticker'\\n\",\n",
    "pandas_df['rolling_avg_return'] = pandas_df.groupby('ticker', sort =False)['returns'].rolling(window=10).mean().reset_index(level=0, drop=True)\n",
    "\n",
    "# Display the resulting Pandas DataFrame with the rolling average return\\n\",\n",
    "print(pandas_df)\n"
   ]
  },
  {
   "cell_type": "markdown",
   "metadata": {},
   "source": [
    "Please comment:\n",
    "\n",
    "+ Was it necessary to convert to pandas to calculate the moving average return? No, it could have been calculated in Dask.\n",
    "+ Would it have been better to do it in Dask? Why? Perhaps it could have been faster and more efficient, since the newer versions of Dask includes the moving average and mean functions.\n",
    "\n",
    "(1 pt)"
   ]
  },
  {
   "cell_type": "markdown",
   "metadata": {},
   "source": [
    "## Criteria\n",
    "\n",
    "|Criteria|Complete|Incomplete|\n",
    "|---------------------|----|----|\n",
    "|Calculations         |Calculations were done correctly.|Calculations were not done correctly.|\n",
    "|Explanation of answer|Answer was concise and explained the learner's reasoning in depth.|Answer was not concise and did not explained the learner's reasoning in depth.|"
   ]
  },
  {
   "cell_type": "markdown",
   "metadata": {},
   "source": [
    "## Submission Information\n",
    "\n",
    "🚨 **Please review our [Assignment Submission Guide](https://github.com/UofT-DSI/onboarding/blob/main/onboarding_documents/submissions.md)** 🚨 for detailed instructions on how to format, branch, and submit your work. Following these guidelines is crucial for your submissions to be evaluated correctly.\n",
    "\n",
    "### Submission Parameters:\n",
    "* Submission Due Date: `HH:MM AM/PM - DD/MM/YYYY`\n",
    "* The branch name for your repo should be: `assignment-1`\n",
    "* What to submit for this assignment:\n",
    "    * This Jupyter Notebook (assignment_1.ipynb) should be populated and should be the only change in your pull request.\n",
    "* What the pull request link should look like for this assignment: `https://github.com/<your_github_username>/production/pull/<pr_id>`\n",
    "    * Open a private window in your browser. Copy and paste the link to your pull request into the address bar. Make sure you can see your pull request properly. This helps the technical facilitator and learning support staff review your submission easily.\n",
    "\n",
    "Checklist:\n",
    "- [ ] Created a branch with the correct naming convention.\n",
    "- [ ] Ensured that the repository is public.\n",
    "- [ ] Reviewed the PR description guidelines and adhered to them.\n",
    "- [ ] Verify that the link is accessible in a private browser window.\n",
    "\n",
    "If you encounter any difficulties or have questions, please don't hesitate to reach out to our team via our Slack at `#cohort-3-help`. Our Technical Facilitators and Learning Support staff are here to help you navigate any challenges."
   ]
  }
 ],
 "metadata": {
  "kernelspec": {
   "display_name": "env",
   "language": "python",
   "name": "python3"
  },
  "language_info": {
   "codemirror_mode": {
    "name": "ipython",
    "version": 3
   },
   "file_extension": ".py",
   "mimetype": "text/x-python",
   "name": "python",
   "nbconvert_exporter": "python",
   "pygments_lexer": "ipython3",
   "version": "3.11.0"
  }
 },
 "nbformat": 4,
 "nbformat_minor": 2
}
